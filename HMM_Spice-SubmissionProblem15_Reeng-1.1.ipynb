{
 "cells": [
  {
   "cell_type": "code",
   "execution_count": 32,
   "metadata": {
    "collapsed": true
   },
   "outputs": [],
   "source": [
    "import numpy as np\n",
    "import math\n",
    "import sys\n",
    "from collections import defaultdict\n",
    "from math import log\n",
    "import time\n",
    "try:\n",
    "    # Python 2.7\n",
    "    import urllib2 as ur\n",
    "    orl2 = True\n",
    "except:\n",
    "    #Python 3.4\n",
    "    import urllib.request as ur\n",
    "    orl2 = False\n",
    "from collections import Counter"
   ]
  },
  {
   "cell_type": "code",
   "execution_count": 33,
   "metadata": {
    "collapsed": true
   },
   "outputs": [],
   "source": [
    "def computeInitialProb(trainDataFile,numOfStates,randomized=False):\n",
    "    trainFile=open(trainDataFile,\"r\")\n",
    "    metaDataLine = trainFile.readline()\n",
    "    headerLine = metaDataLine.split(\" \")\n",
    "    numSequences = int(headerLine[0])\n",
    "    distinctObservations= int(headerLine[1])#Total Number of Distinct Observations\n",
    "    empiricalDistr=Counter()\n",
    "    for n in range(numSequences):\n",
    "        line = trainFile.readline()#Reading Sequences 1 by 1\n",
    "        line=line.rstrip(\"\\n\")\n",
    "        l = line.split(\" \")\n",
    "        l=l[1:]\n",
    "        lDistr=Counter(l)\n",
    "        empiricalDistr+=lDistr\n",
    "    totalSymbolsSeen=sum(empiricalDistr.values())\n",
    "    initialProb=[]\n",
    "    if randomized:\n",
    "        for i in np.arange(numOfStates):\n",
    "            initialProb.append((1.0*empiricalDistr[str(i%distinctObservations)])/totalSymbolsSeen)\n",
    "    else:\n",
    "        numOfStates=min(numOfStates,distinctObservations)\n",
    "        for i in np.arange(numOfStates):\n",
    "            initialProb.append((1.0*empiricalDistr[str(i)])/totalSymbolsSeen)\n",
    "    #initialProb=[(x)/np.min(initialProb) for x in initialProb]\n",
    "    return (numOfStates,distinctObservations,initialProb)"
   ]
  },
  {
   "cell_type": "code",
   "execution_count": 34,
   "metadata": {
    "collapsed": true
   },
   "outputs": [],
   "source": [
    "def createRandomMatrixA(numOfStates):\n",
    "    matrixA=np.ndarray(shape=(numOfStates,numOfStates),dtype=float)\n",
    "    prob=1.0/(numOfStates)\n",
    "    matrixA.fill(prob)\n",
    "    return matrixA\n",
    "def createRandomMatrixB(numOfStates,distinctObservations):\n",
    "    matrixB=np.ndarray(shape=(numOfStates,distinctObservations),dtype=float)\n",
    "    prob=1.0/(distinctObservations)\n",
    "    matrixB.fill(prob)\n",
    "    return matrixB"
   ]
  },
  {
   "cell_type": "code",
   "execution_count": 35,
   "metadata": {
    "collapsed": false
   },
   "outputs": [],
   "source": [
    "def scaleVector(ndArrayToScale,valueToDivide):\n",
    "    if valueToDivide==0:\n",
    "        ndArrayToScale=0\n",
    "    else:\n",
    "        ndArrayToScale/=float(valueToDivide)\n",
    "def computeAlpha(observations,a,aTranspose,b,bTranspose,pi,alphaDP,shouldScale=True):\n",
    "    statesC=a.shape[0]\n",
    "    timePts=observations.shape[0]\n",
    "    if timePts<1:\n",
    "        return\n",
    "    alphaDpScaleTime0=0\n",
    "    if shouldScale==False:\n",
    "        alphaDP[0]=pi*bTranspose[observations[0]]\n",
    "    else:\n",
    "        alphaDP[0]=pi*bTranspose[observations[0]]\n",
    "        scaleVector(alphaDP[0],np.sum(alphaDP[0]))\n",
    "    for t in np.arange(1,timePts):\n",
    "        for i in np.arange(statesC):\n",
    "            alphaDP[t][i]=b[i][observations[t]]*(np.sum(alphaDP[t-1]*aTranspose[i]))\n",
    "        if shouldScale:#Always True except the case when we are using this method to compute Likelihood\n",
    "            alphaDP[t][i]=b[i][observations[t]]*(np.sum(alphaDP[t-1]*aTranspose[i]))\n",
    "            scaleVector(alphaDP[t],np.sum(alphaDP[t]))\n",
    "def getObservationLikelihood(newObserv,timePt,a,aTranspose,b,bTranspose,alphaDP,shouldScale=True):\n",
    "    statesC=a.shape[0]\n",
    "    for i in np.arange(statesC):\n",
    "        alphaDP[timePt][i]=b[i][newObserv]*(np.sum(alphaDP[timePt-1]*aTranspose[i]))\n",
    "    if shouldScale:\n",
    "        scaleVector(alphaDP[timePt],np.sum(alphaDP[timePt]))\n",
    "    return np.sum(alphaDP[timePt])\n",
    "def computeCacheableAlpha(observations,a,aTranspose,b,bTranspose,pi,shouldScale=True):\n",
    "    alphaDP=np.zeros(shape=(len(observations),a.shape[0]))# Count_of_Observations*Count_of_Hidden_States\n",
    "    computeAlpha(observations,a,aTranspose,b,bTranspose,pi,alphaDP,shouldScale)\n",
    "    return alphaDP"
   ]
  },
  {
   "cell_type": "code",
   "execution_count": 36,
   "metadata": {
    "collapsed": false
   },
   "outputs": [],
   "source": [
    "def computeBeta(observations,a,b,bTranspose,pi,betaDP):\n",
    "    statesC=a.shape[0]\n",
    "    timePts=observations.shape[0]\n",
    "    if timePts<1:\n",
    "        return\n",
    "    betaDP[timePts-1].fill(1)\n",
    "    for t in np.arange(timePts-2,-1,-1):\n",
    "        betaDpScaleTimeT=0\n",
    "        for i in np.arange(statesC):\n",
    "            betaDP[t][i]=np.sum(a[i]*bTranspose[observations[t+1]]*betaDP[t+1])\n",
    "        betaDPtSum=np.sum(betaDP[t])\n",
    "        if betaDPtSum==0:\n",
    "            betaDpScaleTimeT=0\n",
    "        else:\n",
    "            betaDpScaleTimeT=1.0/betaDPtSum\n",
    "        betaDP[t]*=betaDpScaleTimeT\n",
    "    return betaDP"
   ]
  },
  {
   "cell_type": "code",
   "execution_count": 37,
   "metadata": {
    "collapsed": true
   },
   "outputs": [],
   "source": [
    "def computeGammaDP(diGammaDP):\n",
    "    return np.sum(diGammaDP,axis=(2))\n",
    "def computeDiGammaDP(alphaDP,betaDP,a,b,bTranspose,observations):\n",
    "    observationsC=len(observations)\n",
    "    statesC=alphaDP.shape[1]\n",
    "    diGammaDP=np.zeros(shape=(observationsC-1,statesC,statesC),dtype=float)\n",
    "    for i in np.arange(statesC):\n",
    "        for t in np.arange(observationsC-1):\n",
    "            diGammaDP[t][i]=alphaDP[t][i]*a[i]*bTranspose[observations[t+1]]*betaDP[t+1]\n",
    "    diGammaDenom=np.sum(diGammaDP,axis=(1,2))#Sum(0),groupby(1,2)\n",
    "    for t in np.arange(observationsC-1):\n",
    "        if diGammaDenom[t]==0:\n",
    "            diGammaDP[t]=0\n",
    "        else:\n",
    "            diGammaDP[t]/=diGammaDenom[t]\n",
    "    return diGammaDP"
   ]
  },
  {
   "cell_type": "code",
   "execution_count": 38,
   "metadata": {
    "collapsed": false
   },
   "outputs": [],
   "source": [
    "def computeTransitionProbabilityA(diGammaDP,gammaDP):\n",
    "    diGammaIJSumMatrix=np.sum(diGammaDP,axis=(0))\n",
    "    gammaDPISumMatrix=np.sum(gammaDP,axis=(0))\n",
    "    statesC=diGammaIJSumMatrix.shape[0]\n",
    "    for i in np.arange(statesC):\n",
    "        if gammaDPISumMatrix[i]==0:\n",
    "            diGammaIJSumMatrix[i]=0\n",
    "        else:\n",
    "            diGammaIJSumMatrix[i]/=gammaDPISumMatrix[i]\n",
    "    return diGammaIJSumMatrix"
   ]
  },
  {
   "cell_type": "code",
   "execution_count": 39,
   "metadata": {
    "collapsed": true
   },
   "outputs": [],
   "source": [
    "def computeObsrProbNum(gammaDPT,i,vk,observations):\n",
    "    gammaDPi=gammaDPT[i]\n",
    "    return np.sum(gammaDPi[np.where(observations==vk)])\n",
    "def computeTransitionProbabilityB(gammaDP,observations,observationDict):\n",
    "    observations=observations[:len(observations)-1]#Remember DiGammaDP is defined only from 0 to T-2\n",
    "    statesC=gammaDP.shape[1]\n",
    "    observationsC=len(observationDict)\n",
    "    newlyComputedObsrProbB=np.zeros(shape=(statesC,observationsC),dtype=float)\n",
    "    gammaDPISumMatrix=np.sum(gammaDP,axis=(0))\n",
    "    gammaDPT=gammaDP.transpose()\n",
    "    for i in np.arange(statesC):\n",
    "        for vk in observationDict:\n",
    "            if gammaDPISumMatrix[i]==0:\n",
    "                newlyComputedObsrProbB[i][vk]=0\n",
    "            else:\n",
    "                newlyComputedObsrProbB[i][vk]=computeObsrProbNum(gammaDPT,i,vk,observations)/gammaDPISumMatrix[i]\n",
    "    return newlyComputedObsrProbB"
   ]
  },
  {
   "cell_type": "code",
   "execution_count": 40,
   "metadata": {
    "collapsed": false
   },
   "outputs": [],
   "source": [
    "#Change Convergence Criteria to be more reasonable/Useful\n",
    "def isConverged(count,convergenceIters):\n",
    "    if count>=convergenceIters:\n",
    "        return True\n",
    "    return False\n",
    "def Forward_Backward_EM_Algo(observations,A,B,pi,convergenceIters,observationDict):\n",
    "    count=0\n",
    "    updatedA=A\n",
    "    updatedB=B\n",
    "    while isConverged(count,convergenceIters)==False:\n",
    "        #Expectation(E)-Step\n",
    "        alphaDP=np.zeros(shape=(observations.shape[0],updatedA.shape[0]))# Count_of_Observations*Count_of_Hidden_States\n",
    "        betaDP=np.zeros(shape=(observations.shape[0],updatedA.shape[0]))# Count_of_Observations*Count_of_Hidden_States\n",
    "        updatedATranspose=updatedA.transpose()\n",
    "        updatedBTranspose=updatedB.transpose()\n",
    "        computeAlpha(observations,updatedA,updatedATranspose,updatedB,updatedBTranspose,pi,alphaDP)\n",
    "        computeBeta(observations,updatedA,updatedB,updatedBTranspose,pi,betaDP)\n",
    "        #print(\"AlphaDP \",alphaDP)\n",
    "        diGammaDP=computeDiGammaDP(alphaDP,betaDP,updatedA,updatedB,updatedBTranspose,observations)\n",
    "        gammaDP=computeGammaDP(diGammaDP)#[t][state]\n",
    "        #Maximization(M)-Step\n",
    "        newA=computeTransitionProbabilityA(diGammaDP,gammaDP)\n",
    "        newB=computeTransitionProbabilityB(gammaDP,observations,observationDict)\n",
    "        updatedA=newA\n",
    "        updatedB=newB\n",
    "        count=count+1\n",
    "    return (updatedA,updatedB)"
   ]
  },
  {
   "cell_type": "code",
   "execution_count": 41,
   "metadata": {
    "collapsed": false
   },
   "outputs": [],
   "source": [
    "def trainHMM(trainDataFile,A,B,pi,convergenceIters,maxSequences=-1):\n",
    "    trainFile=open(trainDataFile,\"r\")\n",
    "    metaDataLine = trainFile.readline()\n",
    "    headerLine = metaDataLine.split(\" \")\n",
    "    numSequences = int(headerLine[0])\n",
    "    distinctObservations= int(headerLine[1])#Total Number of Distinct Observations\n",
    "    observationDict=np.arange(distinctObservations)\n",
    "    updatedA=np.NaN\n",
    "    updatedB=np.NaN\n",
    "    isAUpdated=False\n",
    "    if(maxSequences==-1):\n",
    "        usedSeqs=numSequences\n",
    "    else:\n",
    "        usedSeqs=min(maxSequences,numSequences)\n",
    "    actuallyUsedSeqs=0\n",
    "    for n in range(usedSeqs):\n",
    "        line = trainFile.readline()#Reading Sequences 1 by 1\n",
    "        if n%11!=0:\n",
    "            continue\n",
    "        line=line.rstrip(\"\\n\")\n",
    "        l = line.split(\" \")\n",
    "        if(int(l[0])<=1):\n",
    "            continue\n",
    "        actuallyUsedSeqs+=1\n",
    "        observations=np.array([int(i) for i in l[1:len(l)]])\n",
    "        #print(\"Observations \",observations)\n",
    "        learnedParams=Forward_Backward_EM_Algo(observations,A,B,pi,convergenceIters,observationDict)\n",
    "        if isAUpdated==False:\n",
    "            isAUpdated=True\n",
    "            updatedA=learnedParams[0]\n",
    "            updatedB=learnedParams[1]\n",
    "        else:\n",
    "            updatedA+=learnedParams[0]\n",
    "            updatedB+=learnedParams[1]\n",
    "    updatedA=updatedA/actuallyUsedSeqs\n",
    "    updatedB=updatedB/actuallyUsedSeqs\n",
    "    return (updatedA,updatedB)"
   ]
  },
  {
   "cell_type": "code",
   "execution_count": 42,
   "metadata": {
    "collapsed": false,
    "scrolled": true
   },
   "outputs": [],
   "source": [
    "def trainModel(fileLoc,maxNoOfStates,convergenceIters,maxSequences=-1,initialProbRandomized=False):\n",
    "    start = time.time()\n",
    "    initialProbs=computeInitialProb(fileLoc,maxNoOfStates,initialProbRandomized)\n",
    "    print(\"Inital Probs \",initialProbs)\n",
    "    end = time.time()\n",
    "    print(\"Computed Initial Prob. in \", end - start ,\"seconds\")\n",
    "    pi=initialProbs[2]\n",
    "    numOfStates=initialProbs[0]\n",
    "    distinctObservations=initialProbs[1]\n",
    "    A=createRandomMatrixA(numOfStates)\n",
    "    B=createRandomMatrixB(numOfStates,distinctObservations)\n",
    "    trainedParams=trainHMM(fileLoc,A,B,pi,convergenceIters,maxSequences)\n",
    "    trainedParams=trainedParams+(pi,)\n",
    "    end=time.time()\n",
    "    print(\"For \",maxSequences,\" Sequences : Total Training Time \",end-start,\" seconds\")\n",
    "    return trainedParams"
   ]
  },
  {
   "cell_type": "code",
   "execution_count": 44,
   "metadata": {
    "collapsed": false,
    "scrolled": false
   },
   "outputs": [
    {
     "name": "stdout",
     "output_type": "stream",
     "text": [
      "Inital Probs  (15, 32, [0.028825739217717115, 0.05182187430039092, 0.02906732730265181, 0.016718289103688524, 0.04888935905352578, 0.01725263668055019, 0.03155947322972764, 0.009900683187486622, 0.053717676522902894, 0.07394760343143647, 0.0006179931459836596, 0.018085156109693783, 0.007220088713506545, 0.0048598075659877435, 0.02721334786470083])\n",
      "Computed Initial Prob. in  8.412896871566772 seconds\n",
      "For  10000  Sequences : Total Training Time  1064.2700824737549  seconds\n"
     ]
    }
   ],
   "source": [
    "np.seterr(all='raise')\n",
    "#(A,B,pi)=trainModel('Data/1.spice.train.txt',25,10,6000,True)\n",
    "#(A,B,pi)=trainModel('Data/2.spice.train.txt',15,8,6000,True)\n",
    "#(A,B,pi)=trainModel('Data/3.spice.train.txt',15,8,6000,True)\n",
    "#(A,B,pi)=trainModel('Data/4.spice.train.txt',33,8,5000,True)\n",
    "#(A,B,pi)=trainModel('Data/5.spice.train.txt',35,7,5000,True)\n",
    "#(A,B,pi)=trainModel('Data/6.spice.train.txt',35,7,2000,True)\n",
    "#(A,B,pi)=trainModel('Data/7.spice.train.txt',30,6,10000,True)\n",
    "#(A,B,pi)=trainModel('Data/8.spice.train.txt',35,7,2000,True)\n",
    "#(A,B,pi)=trainModel('Data/9.spice.train.txt',20,7,4000,True)\n",
    "#(A,B,pi)=trainModel('Data/10.spice.train.txt',25,7,8000,True)\n",
    "#(A,B,pi)=trainModel('Data/11.spice.train.txt',50,10,2000,True)\n",
    "#(A,B,pi)=trainModel('Data/12.spice.train.txt',7,8,12000,True)\n",
    "#(A,B,pi)=trainModel('Data/13.spice.train.txt',30,7,2000,True)\n",
    "#(A,B,pi)=trainModel('Data/14.spice.train.txt',10,5,16000,True)\n",
    "(A,B,pi)=trainModel('Data/15.spice.train.txt',15,7,10000,True)"
   ]
  },
  {
   "cell_type": "code",
   "execution_count": 45,
   "metadata": {
    "collapsed": false
   },
   "outputs": [],
   "source": [
    "def getAverageLikelihood(trainDataFile,A,B,pi,usedSeqs):\n",
    "    trainFile=open(trainDataFile,\"r\")\n",
    "    metaDataLine = trainFile.readline()\n",
    "    ATranspose=A.transpose()\n",
    "    BTranspose=B.transpose()\n",
    "    totalObsr=0.0\n",
    "    obsrCount=0\n",
    "    for n in range(usedSeqs):\n",
    "        line = trainFile.readline()#Reading Sequences 1 by 1\n",
    "        #if n%2!=0:\n",
    "        #    continue\n",
    "        line=line.rstrip(\"\\n\")\n",
    "        l = line.split(\" \")\n",
    "        if(int(l[0])<=1):\n",
    "            continue\n",
    "        observations=np.array([int(i) for i in l[1:len(l)]])\n",
    "        t=len(observations)\n",
    "        alphaDP=computeCacheableAlpha(observations,A,ATranspose,B,BTranspose,pi,True)\n",
    "        obsrLikelihood=getObservationLikelihood(observations[t-1],t-1,A,ATranspose,B,BTranspose,alphaDP,False)\n",
    "        totalObsr+=obsrLikelihood\n",
    "        obsrCount+=1\n",
    "    return totalObsr/obsrCount"
   ]
  },
  {
   "cell_type": "code",
   "execution_count": 46,
   "metadata": {
    "collapsed": false
   },
   "outputs": [
    {
     "data": {
      "text/plain": [
       "0.023381058871187372"
      ]
     },
     "execution_count": 46,
     "metadata": {},
     "output_type": "execute_result"
    }
   ],
   "source": [
    "getAverageLikelihood('Data/15.spice.train.txt',A,B,pi,20000)"
   ]
  },
  {
   "cell_type": "code",
   "execution_count": 41,
   "metadata": {
    "collapsed": true
   },
   "outputs": [],
   "source": [
    "def getHmmRank(prefix,A,ATranspose,B,BTranspose,pi,uniqueSymbols):\n",
    "    prefix.append(0)\n",
    "    observations=np.array(prefix)\n",
    "    alphaDP=computeCacheableAlpha(observations,A,ATranspose,B,BTranspose,pi,True)\n",
    "    obsrLikelihood=getObservationLikelihood(0,len(observations)-1,A,ATranspose,B,BTranspose,alphaDP,False)\n",
    "    prefix.pop()\n",
    "    likelihoods=[]\n",
    "    for i in np.arange(0,uniqueSymbols):\n",
    "        prefix.append(i)\n",
    "        observations=np.array(prefix)\n",
    "        obsrLikelihood=getObservationLikelihood(i,len(observations)-1,A,ATranspose,B,BTranspose,alphaDP,False)\n",
    "        prefix.pop()\n",
    "        likelihoods.append((i,obsrLikelihood))\n",
    "    likelihoods=sorted(likelihoods, key=lambda x: -x[1])\n",
    "    ranks=[i[0] for i in likelihoods]\n",
    "    return ranks"
   ]
  },
  {
   "cell_type": "code",
   "execution_count": null,
   "metadata": {
    "collapsed": true
   },
   "outputs": [],
   "source": []
  },
  {
   "cell_type": "code",
   "execution_count": 42,
   "metadata": {
    "collapsed": true
   },
   "outputs": [],
   "source": [
    "def list_to_string(l):\n",
    "    s=str(l[0])\n",
    "    for x in l[1:]:\n",
    "        s+= \" \" + str(x)\n",
    "    return(s)\n",
    "def formatString(string_in):\n",
    "    \"\"\" Replace white spaces by %20 \"\"\"\n",
    "    return string_in.strip().replace(\" \", \"%20\")\n",
    "# get the test first prefix: the only element of the test set\n",
    "def get_first_prefix(test_file):\n",
    "    \"\"\" This function is called for the public test file(Which only has 1 line)\n",
    "    \"\"\"\n",
    "    f = open(test_file)\n",
    "    prefix = f.readline()\n",
    "    f.close()\n",
    "    return prefix\n",
    "def predictOnSpicePublicData(problem_number,name):\n",
    "    problem_number = str(problem_number)\n",
    "    user_id = '68'\n",
    "    #name = \"hmm_Baseline\"\n",
    "    #train_file = 'Data/0.spice.train.txt'\n",
    "    prefix_file = 'Data/'+problem_number+'.spice.private.test.txt'\n",
    "    first_prefix = get_first_prefix(prefix_file)\n",
    "    prefix_number=1\n",
    "    # get the next symbol ranking on the first prefix\n",
    "    p=first_prefix.split()\n",
    "    prefix=[int(i) for i in p[1:len(p)]]#prefix holds the sequence of values in the public test file(Note:It has only 1 Seq)\n",
    "    print(\"Prefix \",prefix)\n",
    "    ranking=getHmmRank(prefix,A,A.transpose(),B,B.transpose(),pi,B.shape[1])\n",
    "    print(\"Model Ranking \",ranking)\n",
    "    ranking_string=list_to_string(ranking[:5])\n",
    "    #print(\"Prefix number: \" + str(prefix_number) + \" Ranking: \" + ranking_string + \" Prefix: \" + first_prefix)\n",
    "    first_prefix = formatString(first_prefix)\n",
    "\n",
    "    # transform the ranking to follow submission format\n",
    "    ranking_string=formatString(ranking_string)\n",
    "\n",
    "    # create the url to submit the ranking\n",
    "    #name=name+\"_Ver1.7.2\"\n",
    "    name=name\n",
    "    url_base = 'http://spice.lif.univ-mrs.fr/submit.php?user=' + user_id +\\\n",
    "        '&problem=' + problem_number + '&submission=' + name + '&'\n",
    "    url = url_base + 'prefix=' + first_prefix + '&prefix_number=1' + '&ranking=' +\\\n",
    "        ranking_string\n",
    "    response = ur.urlopen(url)\n",
    "    print(\"URL \",url)\n",
    "    content = response.read()\n",
    "    print(\"Response from SPiCe \",content)#Content is a new Sequence returned from the SPiCe server: We will need to predict for this seq\n",
    "    if not orl2:\n",
    "        # Needed for python 3.4...\n",
    "        content= content.decode('utf-8')\n",
    "    list_element = content.split()\n",
    "    head = str(list_element[0])\n",
    "    return content,url_base"
   ]
  },
  {
   "cell_type": "code",
   "execution_count": 43,
   "metadata": {
    "collapsed": false
   },
   "outputs": [
    {
     "name": "stdout",
     "output_type": "stream",
     "text": [
      "Prefix  [16, 27, 28, 13, 16, 18, 27]\n",
      "Model Ranking  [16, 9, 15, 29, 1, 28, 8, 4, 25, 27, 18, 23, 22, 6, 17, 2, 0, 14, 24, 11, 21, 5, 3, 19, 7, 20, 12, 30, 13, 26, 31, 10]\n",
      "URL  http://spice.lif.univ-mrs.fr/submit.php?user=68&problem=15&submission=hmm_alok_v15.1&prefix=7%2016%2027%2028%2013%2016%2018%2027&prefix_number=1&ranking=16%209%2015%2029%201\n",
      "Response from SPiCe  b'12 18 27 3 16 24 23 6 17 14 8 0 15\\n'\n"
     ]
    }
   ],
   "source": [
    "spiceContentOnPubFile,url_base=predictOnSpicePublicData(15,\"hmm_alok_v15.1\")"
   ]
  },
  {
   "cell_type": "code",
   "execution_count": 44,
   "metadata": {
    "collapsed": false
   },
   "outputs": [],
   "source": [
    "def evaluateOnSpiceTrainDataSet(prevContent,url_base):\n",
    "    prefix_number = 2\n",
    "    head=''\n",
    "    content=prevContent\n",
    "    while(head != '[Error]' and head != '[Success]'):\n",
    "        prefix = content[:-1]#Fetch the Sequence returned from Spice Server and exclude the last '\\n'\n",
    "        # Get the ranking\n",
    "        p=prefix.split()\n",
    "        prefix_list=[int(i) for i in p[1:len(p)]]\n",
    "        ranking = getHmmRank(prefix_list,A,A.transpose(),B,B.transpose(),pi,B.shape[1])\n",
    "        ranking_string=list_to_string(ranking[:5])#Here At least alphabet should be 4: Else may get Runtime error\n",
    "        if prefix_number % 200 == 0:\n",
    "            print(\"Prefix number: \" + str(prefix_number) + \" Ranking: \" + ranking_string + \" Prefix: \" + prefix)\n",
    "        # Format the ranking\n",
    "        ranking_string = formatString(ranking_string)\n",
    "        # create prefix with submission needed format\n",
    "        prefix=formatString(prefix)\n",
    "        # Create the url with your ranking to get the next prefix\n",
    "        url = url_base + 'prefix=' + prefix + '&prefix_number=' +\\\n",
    "            str(prefix_number) + '&ranking=' + ranking_string\n",
    "        # Get the answer of the submission on current prefix\n",
    "        response = ur.urlopen(url)\n",
    "        content = response.read()\n",
    "        if not orl2:\n",
    "            # Needed for Python 3.4...\n",
    "            content= content.decode('utf-8')\n",
    "        list_element = content.split()\n",
    "        # modify head in case it is finished or an erro occured\n",
    "        head = str(list_element[0])\n",
    "        # change prefix number\n",
    "        prefix_number += 1\n",
    "    # Post-treatment\n",
    "    # The score is the last element of content (in case of a public test set)\n",
    "    print(content)\n",
    "    list_element = content.split()\n",
    "    score = (list_element[-1])\n",
    "    print(score)"
   ]
  },
  {
   "cell_type": "code",
   "execution_count": 45,
   "metadata": {
    "collapsed": false
   },
   "outputs": [
    {
     "name": "stdout",
     "output_type": "stream",
     "text": [
      "Prefix number: 200 Ranking: 16 9 15 29 1 Prefix: 3 18 28 28\n",
      "Prefix number: 400 Ranking: 16 9 15 29 1 Prefix: 15 18 27 23 16 23 29 28 8 17 3 28 15 27 29 4\n",
      "Prefix number: 600 Ranking: 16 9 15 29 1 Prefix: 6 21 2 1 16 9 15\n",
      "Prefix number: 800 Ranking: 16 9 15 29 1 Prefix: 14 6 1 15 2 15 25 1 6 3 19 29 4 0 28\n",
      "Prefix number: 1000 Ranking: 16 9 15 29 1 Prefix: 7 18 27 29 23 28 8 15\n",
      "Prefix number: 1200 Ranking: 16 9 15 29 1 Prefix: 22 12 12 13 22 4 1 15 25 4 15 9 27 9 20 27 16 28 8 11 17 8 22\n",
      "Prefix number: 1400 Ranking: 16 9 15 29 1 Prefix: 35 4 4 18 15 28 19 29 4 0 2 16 29 14 8 15 21 4 25 9 16 14 1 9 16 25 28 25 4 1 25 8 22 9 18 18\n",
      "Prefix number: 1600 Ranking: 16 9 15 29 1 Prefix: 4 16 29 14 19\n",
      "Prefix number: 1800 Ranking: 16 9 15 29 1 Prefix: 1 6\n",
      "Prefix number: 2000 Ranking: 16 9 15 29 1 Prefix: 26 6 1 15 16 28 26 23 29 1 20 24 21 18 15 2 14 16 18 27 16 24 27 3 29 9 18\n",
      "Prefix number: 2200 Ranking: 16 9 15 29 1 Prefix: 4 16 18 27 16\n",
      "Prefix number: 2400 Ranking: 16 9 15 29 1 Prefix: 68 16 29 14 26 23 9 27 5 0 15 25 1 0 15 14 18 9 7 15 20 4 9 22 27 6 1 16 22 20 23 6 17 6 31 29 29 16 21 25 17 0 15 25 16 22 27 8 17 16 23 24 23 6 17 15 28 25 5 11 0 15 1 22 8 15 6 16 9\n",
      "Prefix number: 2600 Ranking: 16 9 15 29 1 Prefix: 63 18 28 6 21 9 3 12 12 13 29 16 18 27 4 15 1 9 20 25 6 16 2 18 27 6 1 25 21 9 29 29 29 20 29 25 5 3 19 29 4 0 8 9 25 7 1 16 22 27 19 29 4 25 8 17 1 1 29 9 5 16 4 9\n",
      "Prefix number: 2800 Ranking: 16 9 15 29 1 Prefix: 103 16 18 27 16 18 28 23 22 28 2 16 18 27 16 18 27 16 29 30 15 2 25 8 22 20 27 24 2 21 5 0 15 14 16 18 2 1 15 29 16 18 27 8 17 6 0 25 5 17 1 1 5 22 29 28 22 24 2 23 8 17 14 1 9 9 16 18 21 24 23 22 8 15 19 21 21 14 2 16 18 27 16 18 28 23 14 9 3 16 18 28 23 2 15 22 29 9 29 9 5 28 17 29\n",
      "Prefix number: 3000 Ranking: 16 9 15 29 1 Prefix: 4 16 18 27 28\n",
      "Prefix number: 3200 Ranking: 16 9 15 29 1 Prefix: 13 16 9 1 26 16 18 27 28 25 17 16 11 25\n",
      "Prefix number: 3400 Ranking: 16 9 15 29 1 Prefix: 9 4 25 9 15 22 19 29 4 25\n",
      "Prefix number: 3600 Ranking: 16 9 15 29 1 Prefix: 98 6 1 15 23 1 23 29 29 20 27 9 29 25 16 28 5 1 16 9 11 24 10 16 9 1 26 15 9 27 29 4 9 25 1 9 16 18 2 0 15 9 3 18 27 28 29 9 29 9 5 11 1 6 8 6 8 16 28 29 29 29 29 24 18 18 2 1 8 11 15 22 21 18 21 18 29 9 29 21 15 29 29 9 15 29 18 23 29 9 15 25 21 9 15 22 19 29 4\n",
      "Prefix number: 3800 Ranking: 16 9 15 29 1 Prefix: 16 16 2 16 25 23 19 29 4 0 2 16 27 28 15 16 18\n",
      "Prefix number: 4000 Ranking: 16 9 15 29 1 Prefix: 66 21 2 3 8 15 19 8 15 1 8 15 21 18 27 6 0 15 1 28 26 28 1 22 2 30 22 9 18 24 23 18 15 25 16 25 0 4 1 29 1 6 17 5 15 27 15 22 19 29 4 0 8 11 17 8 9 9 29 28 2 12 12 13 4 4 25\n",
      "Prefix number: 4200 Ranking: 16 9 15 29 1 Prefix: 7 12 12 13 29 6 1 15\n",
      "Prefix number: 4400 Ranking: 16 9 15 29 1 Prefix: 17 6 1 15 2 16 14 17 5 4 15 9 8 7 1 18 19 29\n",
      "Prefix number: 4600 Ranking: 16 9 15 29 1 Prefix: 67 16 27 28 15 18 27 18 16 18 21 18 21 9 19 29 4 0 8 17 14 6 4 16 2 30 22 9 5 14 11 6 1 0 15 25 16 25 16 3 5 0 15 1 14 11 28 22 19 29 4 0 8 6 8 28 22 16 29 31 19 29 4 0 22 9 8 7\n",
      "Prefix number: 4800 Ranking: 0 1 2 3 4 Prefix: 0\n",
      "Prefix number: 5000 Ranking: 16 9 15 29 1 Prefix: 2 16 27\n",
      "[Success] Last prefix of the test set. It was a private test set: you cannot submit anymore to this problem\n",
      "\n",
      "problem\n"
     ]
    }
   ],
   "source": [
    "evaluateOnSpiceTrainDataSet(spiceContentOnPubFile,url_base)"
   ]
  },
  {
   "cell_type": "code",
   "execution_count": null,
   "metadata": {
    "collapsed": false
   },
   "outputs": [],
   "source": [
    "evaluateOnSpiceTrainDataSet(spiceContentOnPubFile,url_base)"
   ]
  },
  {
   "cell_type": "code",
   "execution_count": null,
   "metadata": {
    "collapsed": true
   },
   "outputs": [],
   "source": []
  },
  {
   "cell_type": "code",
   "execution_count": null,
   "metadata": {
    "collapsed": true
   },
   "outputs": [],
   "source": []
  },
  {
   "cell_type": "code",
   "execution_count": null,
   "metadata": {
    "collapsed": true
   },
   "outputs": [],
   "source": []
  },
  {
   "cell_type": "code",
   "execution_count": null,
   "metadata": {
    "collapsed": true
   },
   "outputs": [],
   "source": []
  }
 ],
 "metadata": {
  "kernelspec": {
   "display_name": "Python 3",
   "language": "python",
   "name": "python3"
  },
  "language_info": {
   "codemirror_mode": {
    "name": "ipython",
    "version": 3
   },
   "file_extension": ".py",
   "mimetype": "text/x-python",
   "name": "python",
   "nbconvert_exporter": "python",
   "pygments_lexer": "ipython3",
   "version": "3.5.1"
  }
 },
 "nbformat": 4,
 "nbformat_minor": 0
}
