{
 "cells": [
  {
   "cell_type": "code",
   "execution_count": 10,
   "metadata": {
    "collapsed": true
   },
   "outputs": [],
   "source": [
    "# State the problem number\n",
    "problem_number = '0'\n",
    "# and the user id (given during registration)\n",
    "user_id = ''\n",
    "train_file = 'Data/'+problem_number+'.spice.train.txt'\n",
    "prefix_file = 'Data/'+problem_number +'.spice.public.test.txt'\n",
    "#set parameter values\n",
    "#Estimated rank of the Hankel matrix\n",
    "rank = 4\n",
    "#Allow only some of the possible rows and columns of the matrix\n",
    "partial = True\n",
    "#Set max length of elements for rows and column\n",
    "lrows = 3\n",
    "lcolumns = 3\n",
    "#Set which version of the matrix you want to work with\n",
    "version = \"factor\"  # \"classic\" , \"prefix\", \"suffix\" , \"factor\"\n",
    "#Set whether you want to use the sparse or the classic version of the matrix\n",
    "sparse = True\n",
    "# name of this submission (no space or special character)\n",
    "name = \"rank_\" + str(rank) + \"_sparse_\" + version + \"_lrows_lcolumns_\" + str(lrows)"
   ]
  },
  {
   "cell_type": "code",
   "execution_count": 11,
   "metadata": {
    "collapsed": true
   },
   "outputs": [],
   "source": [
    "def learn(train_file, parameter):\n",
    "    \"\"\" Learn a weighted automaton using spectral approach\n",
    "        parameter is the rank\n",
    "        \"\"\"\n",
    "    # Import the SPiCe spectral learning toolbox\n",
    "    import sp2learn.learning as LC\n",
    "    from sp2learn.sample import Sample\n",
    "    # Get the learning sample in needed dictionary format\n",
    "    pT = Sample(adr=train_file, lrows=lrows, lcolumns=lcolumns,version=version, partial=partial)\n",
    "    # Create a learning instance\n",
    "    S_app = LC.Learning(sample_instance=pT)\n",
    "    # Learn an automaton (see documentation for other possible parameters)\n",
    "    A = S_app.LearnAutomaton(rank=parameter, lrows=lrows,lcolumns=lcolumns, version=version,\n",
    "                             partial=partial, sparse=sparse)\n",
    "    # Transform the automaton in order to compute prefix weights instead of sequence weights\n",
    "    Ap = A.transformation(source=\"classic\", target=\"prefix\")\n",
    "    return Ap"
   ]
  },
  {
   "cell_type": "code",
   "execution_count": 12,
   "metadata": {
    "collapsed": true
   },
   "outputs": [],
   "source": [
    "def next_symbols_ranking(model, prefix, k=5):\n",
    "    \"\"\" Give the sorted list of the k more frequent next symbols of the prefix in the automaton \n",
    "        The model needs to compute prefix weights (and not sequence weight)\n",
    "        \"\"\"\n",
    "    # Word has to be a list of integer (and not a string)\n",
    "    # First element is the length of the prefix and thus has to be erased\n",
    "    word = prefix.split()\n",
    "    word = [int(i) for i in word][1:]\n",
    "    # Compute the weight of the prefix\n",
    "    p_w = model.val(word)\n",
    "    for i in range(model.nbL):\n",
    "        p_w -= model.val(word+[i])\n",
    "    # Symbol -1 correspond to end of sequence\n",
    "    # If the weight is negative it does not carry any semantic\n",
    "    l = [(-1, max(p_w, 0))]\n",
    "    s = max(p_w, 0)\n",
    "    # Compute the weight of the prefix concatenated to each possible symbol\n",
    "    for i in range(model.nbL):\n",
    "        l.append((i, max(model.val(word+[i]), 0)))\n",
    "        s += max(model.val(word+[i]), 0)\n",
    "    # Sort the symbol by decreasing weight\n",
    "    l = sorted(l, key=lambda x: -x[1])\n",
    "    if s != 0:\n",
    "        # At least one symbol has a strictly positive weight\n",
    "        # Return a string containing the sorted k most probable next symbols separted by spaces\n",
    "        mot = trans_string([x[0] for x in l][0:k])\n",
    "        return mot\n",
    "    else:\n",
    "        # All symbols have a non-positive weight in the model\n",
    "        # Return the k first symbols...\n",
    "        return trans_string([x for x in range(-1, k-1)])"
   ]
  },
  {
   "cell_type": "code",
   "execution_count": 13,
   "metadata": {
    "collapsed": true
   },
   "outputs": [],
   "source": [
    "def trans_string(list):\n",
    "    \"\"\" Transform a list of interger into a string of elements separated by a space \"\"\"\n",
    "    mot = \"\"\n",
    "    for w in list:\n",
    "        mot +=  str(w) + ' '\n",
    "    return mot\n",
    "def get_first_prefix(test_file):\n",
    "    \"\"\" get the only prefix in test_file \"\"\"\n",
    "    f = open(test_file)\n",
    "    prefix = f.readline()\n",
    "    f.close()\n",
    "    return prefix\n",
    "def formatString(string_in):\n",
    "    \"\"\" Replace white spaces by %20 \"\"\"\n",
    "    return string_in.strip().replace(\" \", \"%20\")"
   ]
  },
  {
   "cell_type": "code",
   "execution_count": 14,
   "metadata": {
    "collapsed": false
   },
   "outputs": [
    {
     "name": "stdout",
     "output_type": "stream",
     "text": [
      "Start Learning\n",
      "Start Hankel matrix computation\n",
      "End of Hankel matrix computation\n",
      "Start Building Automaton from Hankel matrix\n",
      "End of Automaton computation\n",
      "Learning Ended\n",
      "Prefix number: 1 Ranking: 0 3 -1 1 2  Prefix: 7 3 0 3 0 1 3 3\n"
     ]
    }
   ],
   "source": [
    "# learn the model\n",
    "print (\"Start Learning\")\n",
    "model = learn(train_file, rank)\n",
    "print (\"Learning Ended\")\n",
    "# get the test first prefix: the only element of the test set\n",
    "first_prefix = get_first_prefix(prefix_file)\n",
    "# get the next symbol ranking on the first prefix\n",
    "ranking = next_symbols_ranking(model, first_prefix)\n",
    "print (\"Prefix number: 1 Ranking: \" + ranking + \" Prefix: \" + first_prefix)"
   ]
  },
  {
   "cell_type": "code",
   "execution_count": 15,
   "metadata": {
    "collapsed": true
   },
   "outputs": [],
   "source": [
    "# transform ranking to follow submission format (with %20 between symbols)\n",
    "ranking = formatString(ranking)\n",
    "# transform the first prefix to follow submission format\n",
    "first_prefix = formatString(first_prefix)"
   ]
  },
  {
   "cell_type": "code",
   "execution_count": null,
   "metadata": {
    "collapsed": true
   },
   "outputs": [],
   "source": [
    "# create the url to submit the ranking\n",
    "url_base = 'http://spice.lif.univ-mrs.fr/submit.php?user=' + user_id +\\\n",
    "           '&problem=' + problem_number + '&submission=' + name + '&'\n",
    "url = url_base + 'prefix=' + first_prefix + '&prefix_number=1' + '&ranking=' +\\\n",
    "      ranking\n",
    "\n",
    "# Get the website answer for the first prefix with this ranking using this\n",
    "# submission name\n",
    "try:\n",
    "    # Python 2.7\n",
    "    import urllib2 as ur\n",
    "    orl2 = True\n",
    "except:\n",
    "    #Python 3.4\n",
    "    import urllib.request as ur\n",
    "    orl2 = False\n",
    "\n",
    "response = ur.urlopen(url)\n",
    "content = response.read()\n",
    "\n",
    "if not orl2:\n",
    "    # Needed for python 3.4...\n",
    "    content= content.decode('utf-8')\n",
    "\n",
    "list_element = content.split()\n",
    "head = str(list_element[0])\n",
    "\n",
    "prefix_number = 2\n",
    "\n",
    "while(head != '[Error]' and head != '[Success]'):\n",
    "    prefix = content[:-1]\n",
    "    # Get the ranking\n",
    "    ranking = next_symbols_ranking(model, prefix)\n",
    "    \n",
    "    if prefix_number % 200 == 0:\n",
    "        print(\"Prefix number: \" + str(prefix_number) + \" Ranking: \" + ranking + \" Prefix: \" + prefix)\n",
    "    \n",
    "    # Format the ranking\n",
    "    ranking = formatString(ranking)\n",
    "\n",
    "    # create prefix with submission needed format\n",
    "    prefix=formatString(prefix)\n",
    "\n",
    "    # Create the url with your ranking to get the next prefix\n",
    "    url = url_base + 'prefix=' + prefix + '&prefix_number=' +\\\n",
    "        str(prefix_number) + '&ranking=' + ranking\n",
    "\n",
    "    # Get the answer of the submission on current prefix\n",
    "    response = ur.urlopen(url)\n",
    "    content = response.read()\n",
    "    if not orl2:\n",
    "        # Needed for Python 3.4...\n",
    "        content= content.decode('utf-8')\n",
    "    list_element = content.split()\n",
    "    # modify head in case it is finished or an erro occured\n",
    "    head = str(list_element[0])\n",
    "    # change prefix number\n",
    "    prefix_number += 1\n",
    "# Post-treatment\n",
    "# The score is the last element of content (in case of a public test set)\n",
    "print(content)\n",
    "list_element = content.split()\n",
    "score = (list_element[-1])\n",
    "print(score)"
   ]
  }
 ],
 "metadata": {
  "kernelspec": {
   "display_name": "Python 3",
   "language": "python",
   "name": "python3"
  },
  "language_info": {
   "codemirror_mode": {
    "name": "ipython",
    "version": 3
   },
   "file_extension": ".py",
   "mimetype": "text/x-python",
   "name": "python",
   "nbconvert_exporter": "python",
   "pygments_lexer": "ipython3",
   "version": "3.5.1"
  }
 },
 "nbformat": 4,
 "nbformat_minor": 0
}
