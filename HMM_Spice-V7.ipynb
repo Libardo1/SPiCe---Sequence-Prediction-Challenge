{
 "cells": [
  {
   "cell_type": "code",
   "execution_count": 3,
   "metadata": {
    "collapsed": true
   },
   "outputs": [],
   "source": [
    "import numpy as np\n",
    "import math\n",
    "import sys\n",
    "from collections import defaultdict\n",
    "from math import expm1\n",
    "import time\n",
    "try:\n",
    "    # Python 2.7\n",
    "    import urllib2 as ur\n",
    "    orl2 = True\n",
    "except:\n",
    "    #Python 3.4\n",
    "    import urllib.request as ur\n",
    "    orl2 = False\n",
    "from collections import Counter"
   ]
  },
  {
   "cell_type": "code",
   "execution_count": 4,
   "metadata": {
    "collapsed": true
   },
   "outputs": [],
   "source": [
    "def computeInitialProb(trainDataFile,numOfStates,randomized=False):\n",
    "    trainFile=open(trainDataFile,\"r\")\n",
    "    metaDataLine = trainFile.readline()\n",
    "    headerLine = metaDataLine.split(\" \")\n",
    "    numSequences = int(headerLine[0])\n",
    "    distinctObservations= int(headerLine[1])#Total Number of Distinct Observations\n",
    "    empiricalDistr=Counter()\n",
    "    for n in range(numSequences):\n",
    "        line = trainFile.readline()#Reading Sequences 1 by 1\n",
    "        line=line.rstrip(\"\\n\")\n",
    "        l = line.split(\" \")\n",
    "        l=l[1:]\n",
    "        lDistr=Counter(l)\n",
    "        empiricalDistr+=lDistr\n",
    "    totalSymbolsSeen=sum(empiricalDistr.values())\n",
    "    initialProb=[]\n",
    "    if randomized:\n",
    "        for i in np.arange(numOfStates):\n",
    "            initialProb.append((1.0*empiricalDistr[str(i%distinctObservations)])/totalSymbolsSeen)\n",
    "    else:\n",
    "        numOfStates=min(numOfStates,distinctObservations)\n",
    "        for i in np.arange(numOfStates):\n",
    "            initialProb.append((1.0*empiricalDistr[str(i)])/totalSymbolsSeen)\n",
    "    return (numOfStates,distinctObservations,initialProb)"
   ]
  },
  {
   "cell_type": "code",
   "execution_count": 5,
   "metadata": {
    "collapsed": true
   },
   "outputs": [],
   "source": [
    "def createRandomMatrixA(numOfStates):\n",
    "    matrixA=np.ndarray(shape=(numOfStates,numOfStates),dtype=float)\n",
    "    prob=1.0/(numOfStates)\n",
    "    matrixA.fill(prob)\n",
    "    return matrixA\n",
    "def createRandomMatrixB(numOfStates,distinctObservations):\n",
    "    matrixB=np.ndarray(shape=(numOfStates,distinctObservations),dtype=float)\n",
    "    prob=1.0/(distinctObservations)\n",
    "    matrixB.fill(prob)\n",
    "    return matrixB"
   ]
  },
  {
   "cell_type": "code",
   "execution_count": 15,
   "metadata": {
    "collapsed": false
   },
   "outputs": [],
   "source": [
    "def scaleVector(ndArrayToScale,valueToDivide):\n",
    "    if valueToDivide==0:\n",
    "        ndArrayToScale=0\n",
    "    else:\n",
    "        ndArrayToScale/=float(valueToDivide)\n",
    "def computeAlpha(observations,a,aTranspose,b,bTranspose,pi,alphaDP,shouldScale=True):\n",
    "    statesC=a.shape[0]\n",
    "    timePts=observations.shape[0]\n",
    "    if timePts<1:\n",
    "        return\n",
    "    alphaDpScaleTime0=0\n",
    "    alphaDP[0]=pi*bTranspose[observations[0]]\n",
    "    if shouldScale:\n",
    "        scaleVector(alphaDP[0],np.sum(alphaDP[0]))\n",
    "    #alphaDPScaleT[0]=1.0/np.sum(alphaDP[0])\n",
    "    #alphaDP[0]*=alphaDPScaleT[0]\n",
    "    for t in np.arange(1,timePts):\n",
    "        for i in np.arange(statesC):\n",
    "            alphaDP[t][i]=b[i][observations[t]]*(np.sum(alphaDP[t-1]*aTranspose[i]))\n",
    "        if shouldScale:\n",
    "            scaleVector(alphaDP[t],np.sum(alphaDP[t]))\n",
    "    #print(\"B \",b)\n",
    "    #print(\"Modified Alpha \",alphaDP)\n",
    "def getObservationLikelihood(observations,a,aTranspose,b,bTranspose,pi):\n",
    "    alphaDP=np.zeros(shape=(len(observations),a.shape[0]))# Count_of_Observations*Count_of_Hidden_States\n",
    "    computeAlpha(observations,a,aTranspose,b,bTranspose,pi,alphaDP,False)\n",
    "    return np.sum(alphaDP[len(observations)-1])"
   ]
  },
  {
   "cell_type": "code",
   "execution_count": 7,
   "metadata": {
    "collapsed": false
   },
   "outputs": [],
   "source": [
    "def computeBeta(observations,a,b,bTranspose,pi,betaDP):\n",
    "    statesC=a.shape[0]\n",
    "    timePts=observations.shape[0]\n",
    "    if timePts<1:\n",
    "        return\n",
    "    betaDP[timePts-1].fill(1)\n",
    "    for t in np.arange(timePts-2,-1,-1):\n",
    "        betaDpScaleTimeT=0\n",
    "        for i in np.arange(statesC):\n",
    "            betaDP[t][i]=np.sum(a[i]*bTranspose[observations[t+1]]*betaDP[t+1])\n",
    "        betaDPtSum=np.sum(betaDP[t])\n",
    "        if betaDPtSum==0:\n",
    "            betaDpScaleTimeT=0\n",
    "        else:\n",
    "            betaDpScaleTimeT=1.0/betaDPtSum\n",
    "        betaDP[t]*=betaDpScaleTimeT\n",
    "    return betaDP"
   ]
  },
  {
   "cell_type": "code",
   "execution_count": 16,
   "metadata": {
    "collapsed": true
   },
   "outputs": [],
   "source": [
    "def computeGammaDP(diGammaDP):\n",
    "    return np.sum(diGammaDP,axis=(2))\n",
    "def computeDiGammaDP(alphaDP,betaDP,a,b,bTranspose,observations):\n",
    "    observationsC=len(observations)\n",
    "    statesC=alphaDP.shape[1]\n",
    "    diGammaDP=np.zeros(shape=(observationsC-1,statesC,statesC),dtype=float)\n",
    "    for i in np.arange(statesC):\n",
    "        for t in np.arange(observationsC-1):\n",
    "            diGammaDP[t][i]=alphaDP[t][i]*a[i]*bTranspose[observations[t+1]]*betaDP[t+1]\n",
    "    diGammaDenom=np.sum(diGammaDP,axis=(1,2))#Sum(0),groupby(1,2)\n",
    "    for t in np.arange(observationsC-1):\n",
    "        if diGammaDenom[t]==0:\n",
    "            diGammaDP[t]=0\n",
    "        else:\n",
    "            diGammaDP[t]/=diGammaDenom[t]\n",
    "    return diGammaDP"
   ]
  },
  {
   "cell_type": "code",
   "execution_count": 17,
   "metadata": {
    "collapsed": false
   },
   "outputs": [],
   "source": [
    "def computeTransitionProbabilityA(diGammaDP,gammaDP):\n",
    "    diGammaIJSumMatrix=np.sum(diGammaDP,axis=(0))\n",
    "    gammaDPISumMatrix=np.sum(gammaDP,axis=(0))\n",
    "    statesC=diGammaIJSumMatrix.shape[0]\n",
    "    for i in np.arange(statesC):\n",
    "        if gammaDPISumMatrix[i]==0:\n",
    "            diGammaIJSumMatrix[i]=0\n",
    "        else:\n",
    "            diGammaIJSumMatrix[i]/=gammaDPISumMatrix[i]\n",
    "    return diGammaIJSumMatrix"
   ]
  },
  {
   "cell_type": "code",
   "execution_count": 18,
   "metadata": {
    "collapsed": true
   },
   "outputs": [],
   "source": [
    "def computeObsrProbNum(gammaDPT,i,vk,observations):\n",
    "    gammaDPi=gammaDPT[i]\n",
    "    return np.sum(gammaDPi[np.where(observations==vk)])\n",
    "def computeTransitionProbabilityB(gammaDP,observations,observationDict):\n",
    "    observations=observations[:len(observations)-1]#Remember DiGammaDP is defined only from 0 to T-2\n",
    "    statesC=gammaDP.shape[1]\n",
    "    observationsC=len(observationDict)\n",
    "    newlyComputedObsrProbB=np.zeros(shape=(statesC,observationsC),dtype=float)\n",
    "    gammaDPISumMatrix=np.sum(gammaDP,axis=(0))\n",
    "    gammaDPT=gammaDP.transpose()\n",
    "    for i in np.arange(statesC):\n",
    "        for vk in observationDict:\n",
    "            if gammaDPISumMatrix[i]==0:\n",
    "                newlyComputedObsrProbB[i][vk]=0\n",
    "            else:\n",
    "                newlyComputedObsrProbB[i][vk]=computeObsrProbNum(gammaDPT,i,vk,observations)/gammaDPISumMatrix[i]\n",
    "    return newlyComputedObsrProbB"
   ]
  },
  {
   "cell_type": "code",
   "execution_count": 19,
   "metadata": {
    "collapsed": false
   },
   "outputs": [],
   "source": [
    "#Change Convergence Criteria to be more reasonable/Useful\n",
    "def isConverged(count,convergenceIters):\n",
    "    if count>=convergenceIters:\n",
    "        return True\n",
    "    return False\n",
    "def Forward_Backward_EM_Algo(observations,A,B,pi,convergenceIters,observationDict):\n",
    "    count=0\n",
    "    updatedA=A\n",
    "    updatedB=B\n",
    "    while isConverged(count,convergenceIters)==False:\n",
    "        #Expectation(E)-Step\n",
    "        alphaDP=np.zeros(shape=(observations.shape[0],updatedA.shape[0]))# Count_of_Observations*Count_of_Hidden_States\n",
    "        betaDP=np.zeros(shape=(observations.shape[0],updatedA.shape[0]))# Count_of_Observations*Count_of_Hidden_States\n",
    "        #alphaDPScaleT=np.ones(shape=(observations.shape[0]))\n",
    "        updatedATranspose=updatedA.transpose()\n",
    "        updatedBTranspose=updatedB.transpose()\n",
    "        computeAlpha(observations,updatedA,updatedATranspose,updatedB,updatedBTranspose,pi,alphaDP)\n",
    "        computeBeta(observations,updatedA,updatedB,updatedBTranspose,pi,betaDP)\n",
    "        #print(\"Alpha \",alphaDP)\n",
    "        #print(\"Beta \",alphaDP)\n",
    "        #validateAlphaDP(alphaDP,betaDP)\n",
    "        diGammaDP=computeDiGammaDP(alphaDP,betaDP,updatedA,updatedB,updatedBTranspose,observations)\n",
    "        #print(\"DiGammaDP \",diGammaDP)\n",
    "        gammaDP=computeGammaDP(diGammaDP)#[t][state]\n",
    "        #Maximization(M)-Step\n",
    "        newA=computeTransitionProbabilityA(diGammaDP,gammaDP)\n",
    "        newB=computeTransitionProbabilityB(gammaDP,observations,observationDict)\n",
    "        updatedA=newA\n",
    "        updatedB=newB\n",
    "        count=count+1\n",
    "    return (updatedA,updatedB)"
   ]
  },
  {
   "cell_type": "code",
   "execution_count": 20,
   "metadata": {
    "collapsed": false
   },
   "outputs": [],
   "source": [
    "def trainHMM(trainDataFile,A,B,pi,convergenceIters,maxSequences=-1):\n",
    "    trainFile=open(trainDataFile,\"r\")\n",
    "    metaDataLine = trainFile.readline()\n",
    "    headerLine = metaDataLine.split(\" \")\n",
    "    numSequences = int(headerLine[0])\n",
    "    distinctObservations= int(headerLine[1])#Total Number of Distinct Observations\n",
    "    observationDict=np.arange(distinctObservations)\n",
    "    updatedA=np.NaN\n",
    "    updatedB=np.NaN\n",
    "    isAUpdated=False\n",
    "    if(maxSequences==-1):\n",
    "        usedSeqs=numSequences\n",
    "    else:\n",
    "        usedSeqs=min(maxSequences,numSequences)\n",
    "    actuallyUsedSeqs=0\n",
    "    for n in range(usedSeqs):\n",
    "        line = trainFile.readline()#Reading Sequences 1 by 1\n",
    "        #if n%3!=0:\n",
    "        #    continue\n",
    "        line=line.rstrip(\"\\n\")\n",
    "        l = line.split(\" \")\n",
    "        if(int(l[0])<=1):\n",
    "            continue\n",
    "        actuallyUsedSeqs+=1\n",
    "        observations=np.array([int(i) for i in l[1:len(l)]])\n",
    "        print(\"Observation \",observations)\n",
    "        learnedParams=Forward_Backward_EM_Algo(observations,A,B,pi,convergenceIters,observationDict)\n",
    "        if isAUpdated==False:\n",
    "            isAUpdated=True\n",
    "            updatedA=learnedParams[0]\n",
    "            updatedB=learnedParams[1]\n",
    "        else:\n",
    "            updatedA+=learnedParams[0]\n",
    "            updatedB+=learnedParams[1]\n",
    "    updatedA=updatedA/actuallyUsedSeqs\n",
    "    updatedB=updatedB/actuallyUsedSeqs\n",
    "    return (updatedA,updatedB)"
   ]
  },
  {
   "cell_type": "code",
   "execution_count": 21,
   "metadata": {
    "collapsed": false,
    "scrolled": true
   },
   "outputs": [],
   "source": [
    "def trainModel(fileLoc,maxNoOfStates,convergenceIters,maxSequences=-1,initialProbRandomized=False):\n",
    "    start = time.time()\n",
    "    initialProbs=computeInitialProb(fileLoc,maxNoOfStates,initialProbRandomized)\n",
    "    print(\"Inital Probs \",initialProbs)\n",
    "    end = time.time()\n",
    "    print(\"Computed Initial Prob. in \", end - start ,\"seconds\")\n",
    "    pi=initialProbs[2]\n",
    "    numOfStates=initialProbs[0]\n",
    "    distinctObservations=initialProbs[1]\n",
    "    A=createRandomMatrixA(numOfStates)\n",
    "    B=createRandomMatrixB(numOfStates,distinctObservations)\n",
    "    trainedParams=trainHMM(fileLoc,A,B,pi,convergenceIters,maxSequences)\n",
    "    trainedParams=trainedParams+(pi,)\n",
    "    end=time.time()\n",
    "    print(\"For \",maxSequences,\" Sequences : Total Training Time \",end-start,\" seconds\")\n",
    "    return trainedParams"
   ]
  },
  {
   "cell_type": "code",
   "execution_count": 24,
   "metadata": {
    "collapsed": false
   },
   "outputs": [
    {
     "name": "stdout",
     "output_type": "stream",
     "text": [
      "Inital Probs  (8, 4, [0.23949632215434485, 0.2009447422737536, 0.10146282674645722, 0.4580961088254443, 0.23949632215434485, 0.2009447422737536, 0.10146282674645722, 0.4580961088254443])\n",
      "Computed Initial Prob. in  0.6592514514923096 seconds\n",
      "Observation  [3 0 3 1 3 1 3]\n",
      "For  1  Sequences : Total Training Time  0.7039992809295654  seconds\n"
     ]
    },
    {
     "data": {
      "text/plain": [
       "{'divide': 'raise', 'invalid': 'raise', 'over': 'raise', 'under': 'raise'}"
      ]
     },
     "execution_count": 24,
     "metadata": {},
     "output_type": "execute_result"
    }
   ],
   "source": [
    "old_settings = np.seterr(all='ignore')  #seterr to known value\n",
    "np.seterr(all='raise')#{'over': 'ignore', 'divide': 'ignore', 'invalid': 'ignore','under': 'ignore'}\n",
    "(A,B,pi)=trainModel('Data/0.spice.train.txt',8,10,1,True)\n",
    "np.seterr(**old_settings)  # reset to default {'over': 'raise', 'divide': 'ignore', 'invalid': 'ignore', 'under': 'ignore'}\n",
    "#(A,B,pi)=trainModel('Data/1.spice.train.txt',20,7,1)"
   ]
  },
  {
   "cell_type": "code",
   "execution_count": 25,
   "metadata": {
    "collapsed": false
   },
   "outputs": [
    {
     "data": {
      "text/plain": [
       "(array([[  3.84603472e-05,   1.25988264e-01,   3.73952700e-01,\n",
       "           2.05757059e-05,   3.84603472e-05,   1.25988264e-01,\n",
       "           3.73952700e-01,   2.05757059e-05],\n",
       "        [  3.37158404e-02,   2.56813628e-05,   1.23558906e-05,\n",
       "           4.66246122e-01,   3.37158404e-02,   2.56813628e-05,\n",
       "           1.23558906e-05,   4.66246122e-01],\n",
       "        [  1.28650966e-02,   3.52292092e-07,   1.07876011e-17,\n",
       "           4.87134551e-01,   1.28650966e-02,   3.52292092e-07,\n",
       "           1.07876011e-17,   4.87134551e-01],\n",
       "        [  1.63744904e-06,   5.30658312e-02,   4.46932531e-01,\n",
       "           3.46381928e-22,   1.63744904e-06,   5.30658312e-02,\n",
       "           4.46932531e-01,   3.46381928e-22],\n",
       "        [  3.84603472e-05,   1.25988264e-01,   3.73952700e-01,\n",
       "           2.05757059e-05,   3.84603472e-05,   1.25988264e-01,\n",
       "           3.73952700e-01,   2.05757059e-05],\n",
       "        [  3.37158404e-02,   2.56813628e-05,   1.23558906e-05,\n",
       "           4.66246122e-01,   3.37158404e-02,   2.56813628e-05,\n",
       "           1.23558906e-05,   4.66246122e-01],\n",
       "        [  1.28650966e-02,   3.52292092e-07,   1.07876011e-17,\n",
       "           4.87134551e-01,   1.28650966e-02,   3.52292092e-07,\n",
       "           1.07876011e-17,   4.87134551e-01],\n",
       "        [  1.63744904e-06,   5.30658312e-02,   4.46932531e-01,\n",
       "           3.46381928e-22,   1.63744904e-06,   5.30658312e-02,\n",
       "           4.46932531e-01,   3.46381928e-22]]),\n",
       " array([[  5.24552657e-05,   1.82986019e-05,   0.00000000e+00,\n",
       "           9.99929246e-01],\n",
       "        [  4.33617970e-01,   5.66318026e-01,   0.00000000e+00,\n",
       "           6.40030641e-05],\n",
       "        [  3.18993809e-01,   6.81006191e-01,   0.00000000e+00,\n",
       "           1.03265114e-12],\n",
       "        [  2.88880715e-13,   1.06918346e-14,   0.00000000e+00,\n",
       "           1.00000000e+00],\n",
       "        [  5.24552657e-05,   1.82986019e-05,   0.00000000e+00,\n",
       "           9.99929246e-01],\n",
       "        [  4.33617970e-01,   5.66318026e-01,   0.00000000e+00,\n",
       "           6.40030641e-05],\n",
       "        [  3.18993809e-01,   6.81006191e-01,   0.00000000e+00,\n",
       "           1.03265114e-12],\n",
       "        [  2.88880715e-13,   1.06918346e-14,   0.00000000e+00,\n",
       "           1.00000000e+00]]))"
      ]
     },
     "execution_count": 25,
     "metadata": {},
     "output_type": "execute_result"
    }
   ],
   "source": [
    "A,B"
   ]
  },
  {
   "cell_type": "code",
   "execution_count": 38,
   "metadata": {
    "collapsed": false
   },
   "outputs": [
    {
     "data": {
      "text/plain": [
       "(array([[ 0.1364827 ,  0.18664557,  0.31405828,  0.16281345],\n",
       "        [ 0.15608442,  0.1496722 ,  0.22001805,  0.27422533],\n",
       "        [ 0.1701589 ,  0.15330267,  0.17353171,  0.30300671],\n",
       "        [ 0.13618877,  0.16192936,  0.39828321,  0.10359866]]),\n",
       " array([[ 0.1201357 ,  0.11696151,  0.08324975,  0.47965303],\n",
       "        [ 0.22581657,  0.18487907,  0.08772761,  0.30157675],\n",
       "        [ 0.31548659,  0.2241051 ,  0.08116688,  0.17924144],\n",
       "        [ 0.02593511,  0.02730334,  0.0258246 ,  0.72093695]]))"
      ]
     },
     "execution_count": 38,
     "metadata": {},
     "output_type": "execute_result"
    }
   ],
   "source": [
    "#4,10,5000\n",
    "A,B"
   ]
  },
  {
   "cell_type": "code",
   "execution_count": 36,
   "metadata": {
    "collapsed": false
   },
   "outputs": [
    {
     "data": {
      "text/plain": [
       "(array([[ 0.1966799 ,  0.20011403,  0.21340815,  0.18979792],\n",
       "        [ 0.19678702,  0.19577753,  0.19968287,  0.20775258],\n",
       "        [ 0.19253404,  0.18672076,  0.18550081,  0.23524439],\n",
       "        [ 0.1882928 ,  0.20259477,  0.25646367,  0.15264876]]),\n",
       " array([[ 0.18102743,  0.14381412,  0.06991829,  0.40524015],\n",
       "        [ 0.20809308,  0.16294735,  0.07514728,  0.35381229],\n",
       "        [ 0.25498474,  0.19355009,  0.08561325,  0.26585191],\n",
       "        [ 0.08771256,  0.07386999,  0.04053156,  0.59788589]]))"
      ]
     },
     "execution_count": 36,
     "metadata": {},
     "output_type": "execute_result"
    }
   ],
   "source": [
    "#4,4,5000\n",
    "A,B"
   ]
  },
  {
   "cell_type": "code",
   "execution_count": 34,
   "metadata": {
    "collapsed": false
   },
   "outputs": [
    {
     "data": {
      "text/plain": [
       "(array([[ 0.05,  0.05,  0.05,  0.05,  0.05,  0.05,  0.05,  0.05,  0.05,\n",
       "          0.05,  0.05,  0.05,  0.05,  0.05,  0.05,  0.05],\n",
       "        [ 0.05,  0.05,  0.05,  0.05,  0.05,  0.05,  0.05,  0.05,  0.05,\n",
       "          0.05,  0.05,  0.05,  0.05,  0.05,  0.05,  0.05],\n",
       "        [ 0.05,  0.05,  0.05,  0.05,  0.05,  0.05,  0.05,  0.05,  0.05,\n",
       "          0.05,  0.05,  0.05,  0.05,  0.05,  0.05,  0.05],\n",
       "        [ 0.05,  0.05,  0.05,  0.05,  0.05,  0.05,  0.05,  0.05,  0.05,\n",
       "          0.05,  0.05,  0.05,  0.05,  0.05,  0.05,  0.05],\n",
       "        [ 0.05,  0.05,  0.05,  0.05,  0.05,  0.05,  0.05,  0.05,  0.05,\n",
       "          0.05,  0.05,  0.05,  0.05,  0.05,  0.05,  0.05],\n",
       "        [ 0.05,  0.05,  0.05,  0.05,  0.05,  0.05,  0.05,  0.05,  0.05,\n",
       "          0.05,  0.05,  0.05,  0.05,  0.05,  0.05,  0.05],\n",
       "        [ 0.05,  0.05,  0.05,  0.05,  0.05,  0.05,  0.05,  0.05,  0.05,\n",
       "          0.05,  0.05,  0.05,  0.05,  0.05,  0.05,  0.05],\n",
       "        [ 0.05,  0.05,  0.05,  0.05,  0.05,  0.05,  0.05,  0.05,  0.05,\n",
       "          0.05,  0.05,  0.05,  0.05,  0.05,  0.05,  0.05],\n",
       "        [ 0.05,  0.05,  0.05,  0.05,  0.05,  0.05,  0.05,  0.05,  0.05,\n",
       "          0.05,  0.05,  0.05,  0.05,  0.05,  0.05,  0.05],\n",
       "        [ 0.05,  0.05,  0.05,  0.05,  0.05,  0.05,  0.05,  0.05,  0.05,\n",
       "          0.05,  0.05,  0.05,  0.05,  0.05,  0.05,  0.05],\n",
       "        [ 0.05,  0.05,  0.05,  0.05,  0.05,  0.05,  0.05,  0.05,  0.05,\n",
       "          0.05,  0.05,  0.05,  0.05,  0.05,  0.05,  0.05],\n",
       "        [ 0.05,  0.05,  0.05,  0.05,  0.05,  0.05,  0.05,  0.05,  0.05,\n",
       "          0.05,  0.05,  0.05,  0.05,  0.05,  0.05,  0.05],\n",
       "        [ 0.05,  0.05,  0.05,  0.05,  0.05,  0.05,  0.05,  0.05,  0.05,\n",
       "          0.05,  0.05,  0.05,  0.05,  0.05,  0.05,  0.05],\n",
       "        [ 0.05,  0.05,  0.05,  0.05,  0.05,  0.05,  0.05,  0.05,  0.05,\n",
       "          0.05,  0.05,  0.05,  0.05,  0.05,  0.05,  0.05],\n",
       "        [ 0.05,  0.05,  0.05,  0.05,  0.05,  0.05,  0.05,  0.05,  0.05,\n",
       "          0.05,  0.05,  0.05,  0.05,  0.05,  0.05,  0.05],\n",
       "        [ 0.05,  0.05,  0.05,  0.05,  0.05,  0.05,  0.05,  0.05,  0.05,\n",
       "          0.05,  0.05,  0.05,  0.05,  0.05,  0.05,  0.05]]),\n",
       " array([[ 0.1768392 ,  0.13925918,  0.06661122,  0.4172904 ],\n",
       "        [ 0.1768392 ,  0.13925918,  0.06661122,  0.4172904 ],\n",
       "        [ 0.1768392 ,  0.13925918,  0.06661122,  0.4172904 ],\n",
       "        [ 0.1768392 ,  0.13925918,  0.06661122,  0.4172904 ],\n",
       "        [ 0.1768392 ,  0.13925918,  0.06661122,  0.4172904 ],\n",
       "        [ 0.1768392 ,  0.13925918,  0.06661122,  0.4172904 ],\n",
       "        [ 0.1768392 ,  0.13925918,  0.06661122,  0.4172904 ],\n",
       "        [ 0.1768392 ,  0.13925918,  0.06661122,  0.4172904 ],\n",
       "        [ 0.1768392 ,  0.13925918,  0.06661122,  0.4172904 ],\n",
       "        [ 0.1768392 ,  0.13925918,  0.06661122,  0.4172904 ],\n",
       "        [ 0.1768392 ,  0.13925918,  0.06661122,  0.4172904 ],\n",
       "        [ 0.1768392 ,  0.13925918,  0.06661122,  0.4172904 ],\n",
       "        [ 0.1768392 ,  0.13925918,  0.06661122,  0.4172904 ],\n",
       "        [ 0.1768392 ,  0.13925918,  0.06661122,  0.4172904 ],\n",
       "        [ 0.1768392 ,  0.13925918,  0.06661122,  0.4172904 ],\n",
       "        [ 0.1768392 ,  0.13925918,  0.06661122,  0.4172904 ]]))"
      ]
     },
     "execution_count": 34,
     "metadata": {},
     "output_type": "execute_result"
    }
   ],
   "source": [
    "#16,10,5000\n",
    "A,B"
   ]
  },
  {
   "cell_type": "code",
   "execution_count": 32,
   "metadata": {
    "collapsed": false
   },
   "outputs": [
    {
     "data": {
      "text/plain": [
       "(array([[ 0.05115446,  0.05115446,  0.05115446,  0.05115446,  0.05115446,\n",
       "          0.05115446,  0.05115446,  0.05115446,  0.05115446,  0.05115446,\n",
       "          0.05115446,  0.05115446,  0.05115446,  0.05115446,  0.05115446,\n",
       "          0.05115446],\n",
       "        [ 0.05115446,  0.05115446,  0.05115446,  0.05115446,  0.05115446,\n",
       "          0.05115446,  0.05115446,  0.05115446,  0.05115446,  0.05115446,\n",
       "          0.05115446,  0.05115446,  0.05115446,  0.05115446,  0.05115446,\n",
       "          0.05115446],\n",
       "        [ 0.05115446,  0.05115446,  0.05115446,  0.05115446,  0.05115446,\n",
       "          0.05115446,  0.05115446,  0.05115446,  0.05115446,  0.05115446,\n",
       "          0.05115446,  0.05115446,  0.05115446,  0.05115446,  0.05115446,\n",
       "          0.05115446],\n",
       "        [ 0.05115446,  0.05115446,  0.05115446,  0.05115446,  0.05115446,\n",
       "          0.05115446,  0.05115446,  0.05115446,  0.05115446,  0.05115446,\n",
       "          0.05115446,  0.05115446,  0.05115446,  0.05115446,  0.05115446,\n",
       "          0.05115446],\n",
       "        [ 0.05115446,  0.05115446,  0.05115446,  0.05115446,  0.05115446,\n",
       "          0.05115446,  0.05115446,  0.05115446,  0.05115446,  0.05115446,\n",
       "          0.05115446,  0.05115446,  0.05115446,  0.05115446,  0.05115446,\n",
       "          0.05115446],\n",
       "        [ 0.05115446,  0.05115446,  0.05115446,  0.05115446,  0.05115446,\n",
       "          0.05115446,  0.05115446,  0.05115446,  0.05115446,  0.05115446,\n",
       "          0.05115446,  0.05115446,  0.05115446,  0.05115446,  0.05115446,\n",
       "          0.05115446],\n",
       "        [ 0.05115446,  0.05115446,  0.05115446,  0.05115446,  0.05115446,\n",
       "          0.05115446,  0.05115446,  0.05115446,  0.05115446,  0.05115446,\n",
       "          0.05115446,  0.05115446,  0.05115446,  0.05115446,  0.05115446,\n",
       "          0.05115446],\n",
       "        [ 0.05115446,  0.05115446,  0.05115446,  0.05115446,  0.05115446,\n",
       "          0.05115446,  0.05115446,  0.05115446,  0.05115446,  0.05115446,\n",
       "          0.05115446,  0.05115446,  0.05115446,  0.05115446,  0.05115446,\n",
       "          0.05115446],\n",
       "        [ 0.05115446,  0.05115446,  0.05115446,  0.05115446,  0.05115446,\n",
       "          0.05115446,  0.05115446,  0.05115446,  0.05115446,  0.05115446,\n",
       "          0.05115446,  0.05115446,  0.05115446,  0.05115446,  0.05115446,\n",
       "          0.05115446],\n",
       "        [ 0.05115446,  0.05115446,  0.05115446,  0.05115446,  0.05115446,\n",
       "          0.05115446,  0.05115446,  0.05115446,  0.05115446,  0.05115446,\n",
       "          0.05115446,  0.05115446,  0.05115446,  0.05115446,  0.05115446,\n",
       "          0.05115446],\n",
       "        [ 0.05115446,  0.05115446,  0.05115446,  0.05115446,  0.05115446,\n",
       "          0.05115446,  0.05115446,  0.05115446,  0.05115446,  0.05115446,\n",
       "          0.05115446,  0.05115446,  0.05115446,  0.05115446,  0.05115446,\n",
       "          0.05115446],\n",
       "        [ 0.05115446,  0.05115446,  0.05115446,  0.05115446,  0.05115446,\n",
       "          0.05115446,  0.05115446,  0.05115446,  0.05115446,  0.05115446,\n",
       "          0.05115446,  0.05115446,  0.05115446,  0.05115446,  0.05115446,\n",
       "          0.05115446],\n",
       "        [ 0.05115446,  0.05115446,  0.05115446,  0.05115446,  0.05115446,\n",
       "          0.05115446,  0.05115446,  0.05115446,  0.05115446,  0.05115446,\n",
       "          0.05115446,  0.05115446,  0.05115446,  0.05115446,  0.05115446,\n",
       "          0.05115446],\n",
       "        [ 0.05115446,  0.05115446,  0.05115446,  0.05115446,  0.05115446,\n",
       "          0.05115446,  0.05115446,  0.05115446,  0.05115446,  0.05115446,\n",
       "          0.05115446,  0.05115446,  0.05115446,  0.05115446,  0.05115446,\n",
       "          0.05115446],\n",
       "        [ 0.05115446,  0.05115446,  0.05115446,  0.05115446,  0.05115446,\n",
       "          0.05115446,  0.05115446,  0.05115446,  0.05115446,  0.05115446,\n",
       "          0.05115446,  0.05115446,  0.05115446,  0.05115446,  0.05115446,\n",
       "          0.05115446],\n",
       "        [ 0.05115446,  0.05115446,  0.05115446,  0.05115446,  0.05115446,\n",
       "          0.05115446,  0.05115446,  0.05115446,  0.05115446,  0.05115446,\n",
       "          0.05115446,  0.05115446,  0.05115446,  0.05115446,  0.05115446,\n",
       "          0.05115446]]),\n",
       " array([[ 0.18350355,  0.14548869,  0.05830959,  0.43116951],\n",
       "        [ 0.18350355,  0.14548869,  0.05830959,  0.43116951],\n",
       "        [ 0.18350355,  0.14548869,  0.05830959,  0.43116951],\n",
       "        [ 0.18350355,  0.14548869,  0.05830959,  0.43116951],\n",
       "        [ 0.18350355,  0.14548869,  0.05830959,  0.43116951],\n",
       "        [ 0.18350355,  0.14548869,  0.05830959,  0.43116951],\n",
       "        [ 0.18350355,  0.14548869,  0.05830959,  0.43116951],\n",
       "        [ 0.18350355,  0.14548869,  0.05830959,  0.43116951],\n",
       "        [ 0.18350355,  0.14548869,  0.05830959,  0.43116951],\n",
       "        [ 0.18350355,  0.14548869,  0.05830959,  0.43116951],\n",
       "        [ 0.18350355,  0.14548869,  0.05830959,  0.43116951],\n",
       "        [ 0.18350355,  0.14548869,  0.05830959,  0.43116951],\n",
       "        [ 0.18350355,  0.14548869,  0.05830959,  0.43116951],\n",
       "        [ 0.18350355,  0.14548869,  0.05830959,  0.43116951],\n",
       "        [ 0.18350355,  0.14548869,  0.05830959,  0.43116951],\n",
       "        [ 0.18350355,  0.14548869,  0.05830959,  0.43116951]]))"
      ]
     },
     "execution_count": 32,
     "metadata": {},
     "output_type": "execute_result"
    }
   ],
   "source": [
    "#16,10,1000\n",
    "A,B"
   ]
  },
  {
   "cell_type": "code",
   "execution_count": 30,
   "metadata": {
    "collapsed": false
   },
   "outputs": [
    {
     "data": {
      "text/plain": [
       "(array([[ 0.05330882,  0.05330882,  0.05330882,  0.05330882,  0.05330882,\n",
       "          0.05330882,  0.05330882,  0.05330882,  0.05330882,  0.05330882,\n",
       "          0.05330882,  0.05330882,  0.05330882,  0.05330882,  0.05330882,\n",
       "          0.05330882],\n",
       "        [ 0.05330882,  0.05330882,  0.05330882,  0.05330882,  0.05330882,\n",
       "          0.05330882,  0.05330882,  0.05330882,  0.05330882,  0.05330882,\n",
       "          0.05330882,  0.05330882,  0.05330882,  0.05330882,  0.05330882,\n",
       "          0.05330882],\n",
       "        [ 0.05330882,  0.05330882,  0.05330882,  0.05330882,  0.05330882,\n",
       "          0.05330882,  0.05330882,  0.05330882,  0.05330882,  0.05330882,\n",
       "          0.05330882,  0.05330882,  0.05330882,  0.05330882,  0.05330882,\n",
       "          0.05330882],\n",
       "        [ 0.05330882,  0.05330882,  0.05330882,  0.05330882,  0.05330882,\n",
       "          0.05330882,  0.05330882,  0.05330882,  0.05330882,  0.05330882,\n",
       "          0.05330882,  0.05330882,  0.05330882,  0.05330882,  0.05330882,\n",
       "          0.05330882],\n",
       "        [ 0.05330882,  0.05330882,  0.05330882,  0.05330882,  0.05330882,\n",
       "          0.05330882,  0.05330882,  0.05330882,  0.05330882,  0.05330882,\n",
       "          0.05330882,  0.05330882,  0.05330882,  0.05330882,  0.05330882,\n",
       "          0.05330882],\n",
       "        [ 0.05330882,  0.05330882,  0.05330882,  0.05330882,  0.05330882,\n",
       "          0.05330882,  0.05330882,  0.05330882,  0.05330882,  0.05330882,\n",
       "          0.05330882,  0.05330882,  0.05330882,  0.05330882,  0.05330882,\n",
       "          0.05330882],\n",
       "        [ 0.05330882,  0.05330882,  0.05330882,  0.05330882,  0.05330882,\n",
       "          0.05330882,  0.05330882,  0.05330882,  0.05330882,  0.05330882,\n",
       "          0.05330882,  0.05330882,  0.05330882,  0.05330882,  0.05330882,\n",
       "          0.05330882],\n",
       "        [ 0.05330882,  0.05330882,  0.05330882,  0.05330882,  0.05330882,\n",
       "          0.05330882,  0.05330882,  0.05330882,  0.05330882,  0.05330882,\n",
       "          0.05330882,  0.05330882,  0.05330882,  0.05330882,  0.05330882,\n",
       "          0.05330882],\n",
       "        [ 0.05330882,  0.05330882,  0.05330882,  0.05330882,  0.05330882,\n",
       "          0.05330882,  0.05330882,  0.05330882,  0.05330882,  0.05330882,\n",
       "          0.05330882,  0.05330882,  0.05330882,  0.05330882,  0.05330882,\n",
       "          0.05330882],\n",
       "        [ 0.05330882,  0.05330882,  0.05330882,  0.05330882,  0.05330882,\n",
       "          0.05330882,  0.05330882,  0.05330882,  0.05330882,  0.05330882,\n",
       "          0.05330882,  0.05330882,  0.05330882,  0.05330882,  0.05330882,\n",
       "          0.05330882],\n",
       "        [ 0.05330882,  0.05330882,  0.05330882,  0.05330882,  0.05330882,\n",
       "          0.05330882,  0.05330882,  0.05330882,  0.05330882,  0.05330882,\n",
       "          0.05330882,  0.05330882,  0.05330882,  0.05330882,  0.05330882,\n",
       "          0.05330882],\n",
       "        [ 0.05330882,  0.05330882,  0.05330882,  0.05330882,  0.05330882,\n",
       "          0.05330882,  0.05330882,  0.05330882,  0.05330882,  0.05330882,\n",
       "          0.05330882,  0.05330882,  0.05330882,  0.05330882,  0.05330882,\n",
       "          0.05330882],\n",
       "        [ 0.05330882,  0.05330882,  0.05330882,  0.05330882,  0.05330882,\n",
       "          0.05330882,  0.05330882,  0.05330882,  0.05330882,  0.05330882,\n",
       "          0.05330882,  0.05330882,  0.05330882,  0.05330882,  0.05330882,\n",
       "          0.05330882],\n",
       "        [ 0.05330882,  0.05330882,  0.05330882,  0.05330882,  0.05330882,\n",
       "          0.05330882,  0.05330882,  0.05330882,  0.05330882,  0.05330882,\n",
       "          0.05330882,  0.05330882,  0.05330882,  0.05330882,  0.05330882,\n",
       "          0.05330882],\n",
       "        [ 0.05330882,  0.05330882,  0.05330882,  0.05330882,  0.05330882,\n",
       "          0.05330882,  0.05330882,  0.05330882,  0.05330882,  0.05330882,\n",
       "          0.05330882,  0.05330882,  0.05330882,  0.05330882,  0.05330882,\n",
       "          0.05330882],\n",
       "        [ 0.05330882,  0.05330882,  0.05330882,  0.05330882,  0.05330882,\n",
       "          0.05330882,  0.05330882,  0.05330882,  0.05330882,  0.05330882,\n",
       "          0.05330882,  0.05330882,  0.05330882,  0.05330882,  0.05330882,\n",
       "          0.05330882]]),\n",
       " array([[ 0.17810221,  0.1967996 ,  0.05963174,  0.41840762],\n",
       "        [ 0.17810221,  0.1967996 ,  0.05963174,  0.41840762],\n",
       "        [ 0.17810221,  0.1967996 ,  0.05963174,  0.41840762],\n",
       "        [ 0.17810221,  0.1967996 ,  0.05963174,  0.41840762],\n",
       "        [ 0.17810221,  0.1967996 ,  0.05963174,  0.41840762],\n",
       "        [ 0.17810221,  0.1967996 ,  0.05963174,  0.41840762],\n",
       "        [ 0.17810221,  0.1967996 ,  0.05963174,  0.41840762],\n",
       "        [ 0.17810221,  0.1967996 ,  0.05963174,  0.41840762],\n",
       "        [ 0.17810221,  0.1967996 ,  0.05963174,  0.41840762],\n",
       "        [ 0.17810221,  0.1967996 ,  0.05963174,  0.41840762],\n",
       "        [ 0.17810221,  0.1967996 ,  0.05963174,  0.41840762],\n",
       "        [ 0.17810221,  0.1967996 ,  0.05963174,  0.41840762],\n",
       "        [ 0.17810221,  0.1967996 ,  0.05963174,  0.41840762],\n",
       "        [ 0.17810221,  0.1967996 ,  0.05963174,  0.41840762],\n",
       "        [ 0.17810221,  0.1967996 ,  0.05963174,  0.41840762],\n",
       "        [ 0.17810221,  0.1967996 ,  0.05963174,  0.41840762]]))"
      ]
     },
     "execution_count": 30,
     "metadata": {},
     "output_type": "execute_result"
    }
   ],
   "source": [
    "A,B"
   ]
  },
  {
   "cell_type": "code",
   "execution_count": 39,
   "metadata": {
    "collapsed": true
   },
   "outputs": [],
   "source": [
    "def getHmmRank(prefix,A,ATranspose,B,BTranspose,pi,uniqueSymbols):\n",
    "    likelihoods=[]\n",
    "    for i in np.arange(uniqueSymbols):\n",
    "        prefix.append(i)\n",
    "        observations=np.array(prefix)\n",
    "        alphaDP=np.zeros(shape=(observations.shape[0],A.shape[0]))# Count_of_Observations*Count_of_Hidden_States\n",
    "        alphaDPScaleT=np.ones(shape=(observations.shape[0]))\n",
    "        obsrLikelihood=getObservationLikelihood(observations,A,ATranspose,B,BTranspose,pi)\n",
    "        #print(\"Obs : \",observations ,\" Likelihood : \",obsrLikelihood)\n",
    "        #computeAlpha(observations,B,ATranspose,B,BTranspose,pi,alphaDP,alphaDPScaleT)\n",
    "        #obsrLikelihood=observationsLikelihood(alphaDPScaleT)\n",
    "        prefix.pop()\n",
    "        likelihoods.append((i,obsrLikelihood))\n",
    "    likelihoods=sorted(likelihoods, key=lambda x: -x[1])\n",
    "    ranks=[i[0] for i in likelihoods]\n",
    "    return ranks"
   ]
  },
  {
   "cell_type": "code",
   "execution_count": 40,
   "metadata": {
    "collapsed": true
   },
   "outputs": [],
   "source": [
    "def list_to_string(l):\n",
    "    s=str(l[0])\n",
    "    for x in l[1:]:\n",
    "        s+= \" \" + str(x)\n",
    "    return(s)\n",
    "def formatString(string_in):\n",
    "    \"\"\" Replace white spaces by %20 \"\"\"\n",
    "    return string_in.strip().replace(\" \", \"%20\")\n",
    "# get the test first prefix: the only element of the test set\n",
    "def get_first_prefix(test_file):\n",
    "    \"\"\" This function is called for the public test file(Which only has 1 line)\n",
    "    \"\"\"\n",
    "    f = open(test_file)\n",
    "    prefix = f.readline()\n",
    "    f.close()\n",
    "    return prefix\n",
    "def predictOnSpicePublicData(problem_number,name):\n",
    "    problem_number = str(problem_number)\n",
    "    user_id = '68'\n",
    "    #name = \"hmm_Baseline\"\n",
    "    #train_file = 'Data/0.spice.train.txt'\n",
    "    prefix_file = 'Data/'+problem_number+'.spice.public.test.txt'\n",
    "    first_prefix = get_first_prefix(prefix_file)\n",
    "    prefix_number=1\n",
    "    # get the next symbol ranking on the first prefix\n",
    "    p=first_prefix.split()\n",
    "    prefix=[int(i) for i in p[1:len(p)]]#prefix holds the sequence of values in the public test file(Note:It has only 1 Seq)\n",
    "    print(\"Prefix \",prefix)\n",
    "    ranking=getHmmRank(prefix,A,A.transpose(),B,B.transpose(),pi,A.shape[0])\n",
    "    print(\"Model Ranking \",ranking)\n",
    "    ranking_string=list_to_string(ranking[:5])\n",
    "    #print(\"Prefix number: \" + str(prefix_number) + \" Ranking: \" + ranking_string + \" Prefix: \" + first_prefix)\n",
    "    first_prefix = formatString(first_prefix)\n",
    "\n",
    "    # transform the ranking to follow submission format\n",
    "    ranking_string=formatString(ranking_string)\n",
    "\n",
    "    # create the url to submit the ranking\n",
    "    #name=name+\"_Ver1.7.2\"\n",
    "    name=name\n",
    "    url_base = 'http://spice.lif.univ-mrs.fr/submit.php?user=' + user_id +\\\n",
    "        '&problem=' + problem_number + '&submission=' + name + '&'\n",
    "    url = url_base + 'prefix=' + first_prefix + '&prefix_number=1' + '&ranking=' +\\\n",
    "        ranking_string\n",
    "    response = ur.urlopen(url)\n",
    "    print(\"URL \",url)\n",
    "    content = response.read()\n",
    "    print(\"Response from SPiCe \",content)#Content is a new Sequence returned from the SPiCe server: We will need to predict for this seq\n",
    "    if not orl2:\n",
    "        # Needed for python 3.4...\n",
    "        content= content.decode('utf-8')\n",
    "    list_element = content.split()\n",
    "    head = str(list_element[0])\n",
    "    return content,url_base"
   ]
  },
  {
   "cell_type": "code",
   "execution_count": 41,
   "metadata": {
    "collapsed": false
   },
   "outputs": [
    {
     "name": "stdout",
     "output_type": "stream",
     "text": [
      "Prefix  [3, 0, 3, 0, 1, 3, 3]\n",
      "Model Ranking  [3, 0, 1, 2]\n",
      "URL  http://spice.lif.univ-mrs.fr/submit.php?user=68&problem=0&submission=hmm_baseline_v1.3&prefix=7%203%200%203%200%201%203%203&prefix_number=1&ranking=3%200%201%202\n",
      "Response from SPiCe  b'2 3 3 \\n'\n"
     ]
    }
   ],
   "source": [
    "spiceContentOnPubFile,url_base=predictOnSpicePublicData(0,\"hmm_baseline_v1.3\")"
   ]
  },
  {
   "cell_type": "code",
   "execution_count": 42,
   "metadata": {
    "collapsed": false
   },
   "outputs": [],
   "source": [
    "def evaluateOnSpiceTrainDataSet(prevContent,url_base):\n",
    "    prefix_number = 2\n",
    "    head=''\n",
    "    content=prevContent\n",
    "    while(head != '[Error]' and head != '[Success]'):\n",
    "        prefix = content[:-1]#Fetch the Sequence returned from Spice Server and exclude the last '\\n'\n",
    "        # Get the ranking\n",
    "        p=prefix.split()\n",
    "        prefix_list=[int(i) for i in p[1:len(p)]]\n",
    "        ranking = getHmmRank(prefix_list,A,A.transpose(),B,B.transpose(),pi,A.shape[0])\n",
    "        ranking_string=list_to_string(ranking[:5])#Here At least alphabet should be 4: Else may get Runtime error\n",
    "        if prefix_number % 200 == 0:\n",
    "            print(\"Prefix number: \" + str(prefix_number) + \" Ranking: \" + ranking_string + \" Prefix: \" + prefix)\n",
    "        # Format the ranking\n",
    "        ranking_string = formatString(ranking_string)\n",
    "        # create prefix with submission needed format\n",
    "        prefix=formatString(prefix)\n",
    "        # Create the url with your ranking to get the next prefix\n",
    "        url = url_base + 'prefix=' + prefix + '&prefix_number=' +\\\n",
    "            str(prefix_number) + '&ranking=' + ranking_string\n",
    "        # Get the answer of the submission on current prefix\n",
    "        response = ur.urlopen(url)\n",
    "        content = response.read()\n",
    "        if not orl2:\n",
    "            # Needed for Python 3.4...\n",
    "            content= content.decode('utf-8')\n",
    "        list_element = content.split()\n",
    "        # modify head in case it is finished or an erro occured\n",
    "        head = str(list_element[0])\n",
    "        # change prefix number\n",
    "        prefix_number += 1\n",
    "    # Post-treatment\n",
    "    # The score is the last element of content (in case of a public test set)\n",
    "    print(content)\n",
    "    list_element = content.split()\n",
    "    score = (list_element[-1])\n",
    "    print(score)"
   ]
  },
  {
   "cell_type": "code",
   "execution_count": null,
   "metadata": {
    "collapsed": false
   },
   "outputs": [],
   "source": [
    "evaluateOnSpiceTrainDataSet(spiceContentOnPubFile,url_base)"
   ]
  },
  {
   "cell_type": "code",
   "execution_count": 25,
   "metadata": {
    "collapsed": false
   },
   "outputs": [
    {
     "name": "stdout",
     "output_type": "stream",
     "text": [
      "Prefix number: 200 Ranking: 3 0 1 2 Prefix: 8 3 0 1 3 3 1 2 1 \n",
      "Prefix number: 400 Ranking: 3 0 1 2 Prefix: 7 3 3 1 0 1 3 3 \n",
      "Prefix number: 600 Ranking: 3 0 1 2 Prefix: 3 3 0 1 \n",
      "Prefix number: 800 Ranking: 3 0 1 2 Prefix: 1 3 \n",
      "Prefix number: 1000 Ranking: 3 0 1 2 Prefix: 2 3 0 \n",
      "[Success] Last prefix of the test set. The score of the submission named hmm_baseline_Ver1.5 on problem 0 is 0.85064155226946\n",
      "\n",
      "0.85064155226946\n"
     ]
    }
   ],
   "source": [
    "evaluateOnSpiceTrainDataSet(spiceContentOnPubFile,url_base)"
   ]
  },
  {
   "cell_type": "code",
   "execution_count": null,
   "metadata": {
    "collapsed": true
   },
   "outputs": [],
   "source": []
  },
  {
   "cell_type": "code",
   "execution_count": null,
   "metadata": {
    "collapsed": true
   },
   "outputs": [],
   "source": []
  },
  {
   "cell_type": "code",
   "execution_count": null,
   "metadata": {
    "collapsed": true
   },
   "outputs": [],
   "source": []
  },
  {
   "cell_type": "code",
   "execution_count": null,
   "metadata": {
    "collapsed": true
   },
   "outputs": [],
   "source": []
  }
 ],
 "metadata": {
  "kernelspec": {
   "display_name": "Python 3",
   "language": "python",
   "name": "python3"
  },
  "language_info": {
   "codemirror_mode": {
    "name": "ipython",
    "version": 3
   },
   "file_extension": ".py",
   "mimetype": "text/x-python",
   "name": "python",
   "nbconvert_exporter": "python",
   "pygments_lexer": "ipython3",
   "version": "3.5.1"
  }
 },
 "nbformat": 4,
 "nbformat_minor": 0
}
